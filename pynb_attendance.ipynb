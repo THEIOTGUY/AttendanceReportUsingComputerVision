{
 "cells": [
  {
   "cell_type": "code",
   "execution_count": 9,
   "id": "072fdfff",
   "metadata": {},
   "outputs": [],
   "source": [
    "import face_recognition\n",
    "import cv2\n",
    "import os\n",
    "import keyboard\n",
    "import webbrowser\n",
    "#new = 2 \n",
    "#url = \"/home/kali/Desktop/index.html\"\n",
    "#webbrowser.open(url,new=new)\n",
    "cam = cv2.VideoCapture(-1)\n",
    "ayush = face_recognition.load_image_file(\"/home/kali/Desktop/ayush_profile_picture.jpg\")\n",
    "modi = face_recognition.load_image_file(\"/home/kali/Desktop/dataset/modi/modi8.jpg\")\n",
    "trump = face_recognition.load_image_file(\"/home/kali/Desktop/donald trump52.jpg\")\n",
    "bill_gates = face_recognition.load_image_file(\"/home/kali/Desktop/gates0.jpg\")\n",
    "my_face_encoding0 = face_recognition.face_encodings(ayush)[0]\n",
    "my_face_encoding1 = face_recognition.face_encodings(modi)[0]\n",
    "my_face_encoding2 = face_recognition.face_encodings(trump)[0]\n",
    "my_face_encoding3 = face_recognition.face_encodings(bill_gates)[0]\n",
    "# reading the input using the camera\n",
    "  \n",
    "# If image will detected without any error, \n",
    "# show result"
   ]
  },
  {
   "cell_type": "code",
   "execution_count": 18,
   "id": "48d50df8",
   "metadata": {},
   "outputs": [
    {
     "name": "stdout",
     "output_type": "stream",
     "text": [
      "Image Captured\n",
      "[True, False, False, False]\n",
      "Ayush\n"
     ]
    }
   ],
   "source": [
    "while True:\n",
    "    # showing result, it take frame name and image \n",
    "    # output\n",
    "    result, image = cam.read()\n",
    "    cv2.imshow(\"image\", image)\n",
    "    if cv2.waitKey(1) & 0xFF == ord('q'):\n",
    "    # saving image in local storage\n",
    "        cv2.imwrite(\"/home/kali/Desktop/input_image/image.png\", image)\n",
    "      \n",
    "        # If keyboard interrupt occurs, destroy image \n",
    "        # window\n",
    "        cv2.destroyAllWindows()\n",
    "        break\n",
    "print(\"Image Captured\")  \n",
    "# If captured image is corrupted, moving to else part\n",
    "# my_face_encoding now contains a universal 'encoding' of my facial features that can be compared to any other picture of a face!\n",
    "unknown_picture = face_recognition.load_image_file(\"/home/kali/Desktop/input_image/image.png\")\n",
    "unknown_face_encoding = face_recognition.face_encodings(unknown_picture)[0]\n",
    "\n",
    "# Now we can see the two face encodings are of the same person with `compare_faces`!\n",
    "\n",
    "results = face_recognition.compare_faces([my_face_encoding0,my_face_encoding1,my_face_encoding2,my_face_encoding3], unknown_face_encoding)\n",
    "print(results)\n",
    "if results[0] == True:\n",
    "    print(\"Ayush\")\n",
    "if results[1] == True:\n",
    "    print(\"Modi\")\n",
    "if results[2] == True:\n",
    "    print(\"Trump\")\n",
    "if results[3] == True:\n",
    "    print(\"Bill_gates\")\n",
    "os.remove('/home/kali/Desktop/input_image/image.png')\n"
   ]
  },
  {
   "cell_type": "code",
   "execution_count": null,
   "id": "3e755d35",
   "metadata": {},
   "outputs": [],
   "source": [
    "import json\n",
    "import os\n",
    "filename = 'data.json'\n",
    "with open(filename, 'r') as f:\n",
    "    data = json.load(f)\n",
    "    data['Predictions']='ayush'\n",
    "    #print(data['members'][0]['name'])\n",
    "    n=0\n",
    "    if data['members'][n]['name']==name:\n",
    "        print('got on first try')\n",
    "        print(data['members'][n])\n",
    "    while data['members'][n]['name']!=name:\n",
    "        n=n+1\n",
    "        if data['members'][n]['name']==name:\n",
    "            print(data['members'][n])\n",
    "            break\n",
    "    #print(data['Predictions'])\n",
    "    #data['members'][0]['name'] = 'Ayush' # <--- add `id` value.\n",
    "os.remove(filename)\n",
    "with open(filename, 'w') as f:\n",
    "    json.dump(data, f, indent=4)"
   ]
  }
 ],
 "metadata": {
  "kernelspec": {
   "display_name": "Python 3 (ipykernel)",
   "language": "python",
   "name": "python3"
  },
  "language_info": {
   "codemirror_mode": {
    "name": "ipython",
    "version": 3
   },
   "file_extension": ".py",
   "mimetype": "text/x-python",
   "name": "python",
   "nbconvert_exporter": "python",
   "pygments_lexer": "ipython3",
   "version": "3.9.2"
  }
 },
 "nbformat": 4,
 "nbformat_minor": 5
}
